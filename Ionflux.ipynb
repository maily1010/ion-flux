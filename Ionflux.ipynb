{
 "cells": [
  {
   "cell_type": "code",
   "execution_count": 2,
   "id": "6bc3d04f",
   "metadata": {},
   "outputs": [],
   "source": [
    "import pandas as pd\n",
    "\n",
    "# Đọc file xvg vào DataFrame\n",
    "df = pd.read_csv('all.xvg', delimiter='\\t', header=None, names=['time', 'data'])\n",
    "\n",
    "# Tạo cột thứ ba và gán giá trị mặc định bằng cột thứ hai\n",
    "df['new_data'] = df['data']\n",
    "\n",
    "# Lặp qua DataFrame và cập nhật các ô dữ liệu\n",
    "for i in range(1, len(df)):\n",
    "    if df.loc[i, 'data'] != df.loc[i - 1, 'data'] and df.loc[i, 'data'] != 0:\n",
    "        df.at[i, 'new_data'] = df.loc[i - 1, 'new_data'] + 1\n",
    "    else:\n",
    "        df.at[i, 'new_data'] = df.loc[i - 1, 'new_data']\n",
    "\n",
    "# Ghi DataFrame đã sửa vào file xvg mới với phân tách bằng tab\n",
    "df.to_csv('modified_all.xvg', sep='\\t', index=False, header=False)\n"
   ]
  },
  {
   "cell_type": "code",
   "execution_count": null,
   "id": "0446c6c4",
   "metadata": {},
   "outputs": [],
   "source": []
  }
 ],
 "metadata": {
  "kernelspec": {
   "display_name": "Python 3 (ipykernel)",
   "language": "python",
   "name": "python3"
  },
  "language_info": {
   "codemirror_mode": {
    "name": "ipython",
    "version": 3
   },
   "file_extension": ".py",
   "mimetype": "text/x-python",
   "name": "python",
   "nbconvert_exporter": "python",
   "pygments_lexer": "ipython3",
   "version": "3.9.7"
  }
 },
 "nbformat": 4,
 "nbformat_minor": 5
}


